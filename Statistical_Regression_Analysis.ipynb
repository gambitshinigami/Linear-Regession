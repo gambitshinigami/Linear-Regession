{
 "cells": [
  {
   "cell_type": "code",
   "execution_count": 1,
   "metadata": {},
   "outputs": [],
   "source": [
    "import pandas as pd\n",
    "from pandas.api.types import CategoricalDtype\n",
    "pd.options.display.max_rows = 999\n",
    "pd.set_option('display.max_columns',100)\n",
    "\n",
    "import numpy as np\n",
    "\n",
    "from sklearn.model_selection import train_test_split\n",
    "from sklearn.linear_model import LinearRegression, Lasso, Ridge, ElasticNet\n",
    "from sklearn.svm import SVR\n",
    "from sklearn.ensemble import RandomForestRegressor\n",
    "\n",
    "from sklearn.pipeline import Pipeline\n",
    "from sklearn.preprocessing import StandardScaler\n",
    "from sklearn.metrics import r2_score\n",
    "\n",
    "import matplotlib.pyplot as plt\n",
    "import plotly.graph_objs as go\n",
    "import plotly.figure_factory as ff\n",
    "\n",
    "#Find dataset to read : Diamond data\n",
    "#Criteria : 1500 by 11\n",
    "# Importing dataset and examining it\n",
    "filelocation = \"../data/diamonds.csv\"\n",
    "\n",
    "dataset = pd.read_csv(filelocation)\n",
    "\n",
    "#High-level view of the Dataset:\n",
    "print(f'\\n The First Five rows : \\n {dataset.head()}')\n",
    "print(f'\\n Shape of the Dataset : \\n {dataset.shape}')\n",
    "print(f'\\n Data types in the dataset : \\n {dataset.info()}')\n",
    "print(f'\\n Statistical Summary of Dataset : \\n {dataset.describe()}')\n",
    "\n",
    "dataset.drop('Unnamed: 0', axis = 1, inplace = True) #o significant input to the analysis.\n",
    "\n",
    "#Convert Cut, Color and Clarity to Numerical Variables\n",
    "dataset.color = dataset.color.map({'J' : 1,'I': 2, 'H' : 3, 'G' : 4, 'F' : 5, 'E' : 6, 'D' : 7})\n",
    "dataset.cut = dataset.cut.map({'Fair' : 1,'Good': 2, 'Very Good' : 3, 'Premium' : 4, 'Ideal' : 5})\n",
    "dataset.clarity = dataset.clarity.map({'I1' : 1, 'SI2' : 2, 'SI1' : 3, 'VS2' :4 , 'VS1' : 5, 'VVS2' : 6, 'VVS1' : 7, 'IF' : 8})\n",
    "#Split dataset to Features and Target\n",
    "features = dataset.drop('price', axis = 1)\n",
    "target = dataset['price']\n",
    "#Standardize to remove lopsidedness of some features\n",
    "scaler = StandardScaler()\n",
    "\n",
    "dataset_scaled = scaler.fit_transform(dataset)\n",
    "ds_df = pd.DataFrame(dataset_scaled, columns = dataset.columns)\n",
    "\n",
    "features_scaled = scaler.fit_transform(features)\n",
    "fs_df = pd.DataFrame(features_scaled, columns = features.columns)\n",
    "\n",
    "#Split to Train and test for model development\n",
    "fs_df_train, fs_df_test, target_train, target_test = train_test_split(fs_df,target, train_size = 0.8, random_state = 10)\n",
    "#Visualization of Correlationship between features and target : \n",
    "corrs = ds_df.corr()\n",
    "figure = ff.create_annotated_heatmap(\n",
    "    z=corrs.values,\n",
    "    x=list(corrs.columns),\n",
    "    y=list(corrs.index),\n",
    "    annotation_text=corrs.round(2).values,\n",
    "    showscale=True)\n",
    "figure.show()\n",
    "for alpha_ in [.001, .01, .1, 1,10, 100] :\n",
    "#Defining The models :  First Part with Regularization\n",
    "                std_model = LinearRegression()\n",
    "                L1_model = Lasso(alpha = alpha_)\n",
    "                L2_model = Ridge(alpha = alpha_)\n",
    "                EN_model = ElasticNet(alpha = alpha_)\n",
    "\n",
    "                std_model.fit(fs_df_train, target_train)\n",
    "                L1_model.fit(fs_df_train, target_train)\n",
    "                L2_model.fit(fs_df_train, target_train) #Note the lower the Alpha the more overfitted the model gets and conversely applies.\n",
    "\n",
    "                EN_model.fit(fs_df_train, target_train)\n",
    "                print(f'alpha = {alpha_} \\n ---------------------------------------------------------------------------------------------------------------------\\n')\n",
    "                print('Co-efficients of Models as shown below : ')\n",
    "                print(f'---Without Regularization : {np.round(std_model.coef_, 2)}')\n",
    "                print(f'---With L1 Regularization : {np.round(L1_model.coef_, 2)}')\n",
    "                print(f'---With L2 Regularization : {np.round(L2_model.coef_, 2)}')\n",
    "                print(f'---With EN Regularization : {np.round(EN_model.coef_, 2)}')\n",
    "\n",
    "                print('\\n ---------------------------------------------------------------------------------------------------------------------\\n')\n",
    "\n",
    "                ''' \n",
    "               #Degree of Accuracy of the Models\n",
    "                print('Accuracy of Models as shown below:')\n",
    "                print(f'---Without Regularization : {round(std_model.score(fs_df_test, target_test), 4) * 100}%')\n",
    "                print(f'With L1 Regularization : {round(L1_model.score(fs_df_test, target_test), 4) * 100}%')\n",
    "                print(f'With L2 Regularization : {round(L2_model.score(fs_df_test, target_test), 4) * 100}%')\n",
    "                print(f'With EN Regularization : {round(EN_model.score(fs_df_test, target_test), 4) * 100}%')\n",
    "                \n",
    "\n",
    "                print('\\n ---------------------------------------------------------------------------------------------------------------------\\n')\n",
    "                '''\n",
    "                #Based of test dataset\n",
    "                std_model_test_predict = std_model.predict(fs_df_test)\n",
    "                L1_model_test_predict = L1_model.predict(fs_df_test)\n",
    "                L2_model_test_predict = L2_model.predict(fs_df_test)\n",
    "                EN_model_test_predict = EN_model.predict(fs_df_test)\n",
    "\n",
    "                print('R^2 of Models as shown below:')\n",
    "                print(f'---Without Regularization : {round(r2_score(y_pred=std_model_test_predict, y_true = target_test ) , 4) * 100}%')\n",
    "                print(f'With L1 Regularization : {round(r2_score(y_pred=L1_model_test_predict, y_true = target_test ) , 4) * 100}%')\n",
    "                print(f'With L2 Regularization : {round(r2_score(y_pred=L2_model_test_predict, y_true = target_test ) , 4) * 100}%')\n",
    "                print(f'With EN Regularization : {round(r2_score(y_pred=EN_model_test_predict, y_true = target_test ) , 4) * 100}%')\n",
    "\n",
    "#Defining The models  : Second Part\n",
    "std_model = LinearRegression()\n",
    "RF_model = RandomForestRegressor(criterion='squared_error', max_features='sqrt', random_state=10)\n",
    "SVR_model = SVR(kernel = 'linear')\n",
    "\n",
    "std_model.fit(fs_df_train, target_train)\n",
    "RF_model.fit(fs_df_train, target_train)\n",
    "SVR_model.fit(fs_df_train, target_train) #Note the lower the Alpha the more overfitted the model gets and conversely applies.\n",
    "\n",
    "#Based of test dataset\n",
    "std_model_test_predict = std_model.predict(fs_df_test)\n",
    "RF_model_test_predict = RF_model.predict(fs_df_test)\n",
    "SVR_model_test_predict = SVR_model.predict(fs_df_test)\n",
    "\n",
    "print('R^2 of Models as shown below:')\n",
    "print(f'---Without Regularization : {round(r2_score(y_pred=std_model_test_predict, y_true = target_test ) , 4) * 100}%')\n",
    "print(f'With Random Forest Model : {round(r2_score(y_pred=RF_model_test_predict, y_true = target_test ) , 4) * 100}%')\n",
    "print(f'With SVR Model : {round(r2_score(y_pred=SVR_model_test_predict, y_true = target_test ) , 4) * 100}%')\n"
   ]
  },
  {
   "cell_type": "code",
   "execution_count": 10,
   "metadata": {},
   "outputs": [
    {
     "data": {
      "application/vnd.plotly.v1+json": {
       "config": {
        "plotlyServerURL": "https://plot.ly"
       },
       "data": [
        {
         "colorscale": [
          [
           0,
           "#0d0887"
          ],
          [
           0.1111111111111111,
           "#46039f"
          ],
          [
           0.2222222222222222,
           "#7201a8"
          ],
          [
           0.3333333333333333,
           "#9c179e"
          ],
          [
           0.4444444444444444,
           "#bd3786"
          ],
          [
           0.5555555555555556,
           "#d8576b"
          ],
          [
           0.6666666666666666,
           "#ed7953"
          ],
          [
           0.7777777777777778,
           "#fb9f3a"
          ],
          [
           0.8888888888888888,
           "#fdca26"
          ],
          [
           1,
           "#f0f921"
          ]
         ],
         "reversescale": false,
         "showscale": true,
         "type": "heatmap",
         "x": [
          "carat",
          "cut",
          "color",
          "clarity",
          "depth",
          "table",
          "price",
          "x",
          "y",
          "z"
         ],
         "y": [
          "carat",
          "cut",
          "color",
          "clarity",
          "depth",
          "table",
          "price",
          "x",
          "y",
          "z"
         ],
         "z": [
          [
           1,
           -0.13496702034500105,
           -0.2914367542948344,
           -0.35284056863712115,
           0.028224314279048066,
           0.18161754651524356,
           0.9215913011934719,
           0.9750942267264174,
           0.9517221990129946,
           0.9533873805614259
          ],
          [
           -0.13496702034500105,
           1,
           0.020518524362473832,
           0.1891747440079574,
           -0.21805500914168988,
           -0.43340460648144363,
           -0.053490660868105,
           -0.1255652366837787,
           -0.1214618667524865,
           -0.14932253650521618
          ],
          [
           -0.2914367542948344,
           0.020518524362473832,
           1,
           -0.025631280538780905,
           -0.047279234811567365,
           -0.026465201123448644,
           -0.1725109281534657,
           -0.27028668541650874,
           -0.26358440267519884,
           -0.268226875667022
          ],
          [
           -0.35284056863712115,
           0.1891747440079574,
           -0.025631280538780905,
           1,
           -0.0673844355420429,
           -0.1603268410556201,
           -0.1468000710789486,
           -0.37199853307650627,
           -0.358419616416082,
           -0.36695200207500317
          ],
          [
           0.028224314279048066,
           -0.21805500914168988,
           -0.047279234811567365,
           -0.0673844355420429,
           1,
           -0.2957785215265813,
           -0.010647404584143027,
           -0.025289246978947983,
           -0.029340670703610273,
           0.09492388239530684
          ],
          [
           0.18161754651524356,
           -0.43340460648144363,
           -0.026465201123448644,
           -0.1603268410556201,
           -0.2957785215265813,
           1,
           0.12713390212174056,
           0.1953442809555054,
           0.18376014711635683,
           0.15092869156480362
          ],
          [
           0.9215913011934719,
           -0.053490660868105,
           -0.1725109281534657,
           -0.1468000710789486,
           -0.010647404584143027,
           0.12713390212174056,
           1,
           0.8844351610161219,
           0.8654208978641807,
           0.8612494438514335
          ],
          [
           0.9750942267264174,
           -0.1255652366837787,
           -0.27028668541650874,
           -0.37199853307650627,
           -0.025289246978947983,
           0.1953442809555054,
           0.8844351610161219,
           1,
           0.9747014796703493,
           0.970771798577461
          ],
          [
           0.9517221990129946,
           -0.1214618667524865,
           -0.26358440267519884,
           -0.358419616416082,
           -0.029340670703610273,
           0.18376014711635683,
           0.8654208978641807,
           0.9747014796703493,
           1,
           0.9520057161562635
          ],
          [
           0.9533873805614259,
           -0.14932253650521618,
           -0.268226875667022,
           -0.36695200207500317,
           0.09492388239530684,
           0.15092869156480362,
           0.8612494438514335,
           0.970771798577461,
           0.9520057161562635,
           1
          ]
         ]
        }
       ],
       "layout": {
        "annotations": [
         {
          "font": {
           "color": "#000000"
          },
          "showarrow": false,
          "text": "1.0",
          "x": "carat",
          "xref": "x",
          "y": "carat",
          "yref": "y"
         },
         {
          "font": {
           "color": "#FFFFFF"
          },
          "showarrow": false,
          "text": "-0.13",
          "x": "cut",
          "xref": "x",
          "y": "carat",
          "yref": "y"
         },
         {
          "font": {
           "color": "#FFFFFF"
          },
          "showarrow": false,
          "text": "-0.29",
          "x": "color",
          "xref": "x",
          "y": "carat",
          "yref": "y"
         },
         {
          "font": {
           "color": "#FFFFFF"
          },
          "showarrow": false,
          "text": "-0.35",
          "x": "clarity",
          "xref": "x",
          "y": "carat",
          "yref": "y"
         },
         {
          "font": {
           "color": "#FFFFFF"
          },
          "showarrow": false,
          "text": "0.03",
          "x": "depth",
          "xref": "x",
          "y": "carat",
          "yref": "y"
         },
         {
          "font": {
           "color": "#FFFFFF"
          },
          "showarrow": false,
          "text": "0.18",
          "x": "table",
          "xref": "x",
          "y": "carat",
          "yref": "y"
         },
         {
          "font": {
           "color": "#000000"
          },
          "showarrow": false,
          "text": "0.92",
          "x": "price",
          "xref": "x",
          "y": "carat",
          "yref": "y"
         },
         {
          "font": {
           "color": "#000000"
          },
          "showarrow": false,
          "text": "0.98",
          "x": "x",
          "xref": "x",
          "y": "carat",
          "yref": "y"
         },
         {
          "font": {
           "color": "#000000"
          },
          "showarrow": false,
          "text": "0.95",
          "x": "y",
          "xref": "x",
          "y": "carat",
          "yref": "y"
         },
         {
          "font": {
           "color": "#000000"
          },
          "showarrow": false,
          "text": "0.95",
          "x": "z",
          "xref": "x",
          "y": "carat",
          "yref": "y"
         },
         {
          "font": {
           "color": "#FFFFFF"
          },
          "showarrow": false,
          "text": "-0.13",
          "x": "carat",
          "xref": "x",
          "y": "cut",
          "yref": "y"
         },
         {
          "font": {
           "color": "#000000"
          },
          "showarrow": false,
          "text": "1.0",
          "x": "cut",
          "xref": "x",
          "y": "cut",
          "yref": "y"
         },
         {
          "font": {
           "color": "#FFFFFF"
          },
          "showarrow": false,
          "text": "0.02",
          "x": "color",
          "xref": "x",
          "y": "cut",
          "yref": "y"
         },
         {
          "font": {
           "color": "#FFFFFF"
          },
          "showarrow": false,
          "text": "0.19",
          "x": "clarity",
          "xref": "x",
          "y": "cut",
          "yref": "y"
         },
         {
          "font": {
           "color": "#FFFFFF"
          },
          "showarrow": false,
          "text": "-0.22",
          "x": "depth",
          "xref": "x",
          "y": "cut",
          "yref": "y"
         },
         {
          "font": {
           "color": "#FFFFFF"
          },
          "showarrow": false,
          "text": "-0.43",
          "x": "table",
          "xref": "x",
          "y": "cut",
          "yref": "y"
         },
         {
          "font": {
           "color": "#FFFFFF"
          },
          "showarrow": false,
          "text": "-0.05",
          "x": "price",
          "xref": "x",
          "y": "cut",
          "yref": "y"
         },
         {
          "font": {
           "color": "#FFFFFF"
          },
          "showarrow": false,
          "text": "-0.13",
          "x": "x",
          "xref": "x",
          "y": "cut",
          "yref": "y"
         },
         {
          "font": {
           "color": "#FFFFFF"
          },
          "showarrow": false,
          "text": "-0.12",
          "x": "y",
          "xref": "x",
          "y": "cut",
          "yref": "y"
         },
         {
          "font": {
           "color": "#FFFFFF"
          },
          "showarrow": false,
          "text": "-0.15",
          "x": "z",
          "xref": "x",
          "y": "cut",
          "yref": "y"
         },
         {
          "font": {
           "color": "#FFFFFF"
          },
          "showarrow": false,
          "text": "-0.29",
          "x": "carat",
          "xref": "x",
          "y": "color",
          "yref": "y"
         },
         {
          "font": {
           "color": "#FFFFFF"
          },
          "showarrow": false,
          "text": "0.02",
          "x": "cut",
          "xref": "x",
          "y": "color",
          "yref": "y"
         },
         {
          "font": {
           "color": "#000000"
          },
          "showarrow": false,
          "text": "1.0",
          "x": "color",
          "xref": "x",
          "y": "color",
          "yref": "y"
         },
         {
          "font": {
           "color": "#FFFFFF"
          },
          "showarrow": false,
          "text": "-0.03",
          "x": "clarity",
          "xref": "x",
          "y": "color",
          "yref": "y"
         },
         {
          "font": {
           "color": "#FFFFFF"
          },
          "showarrow": false,
          "text": "-0.05",
          "x": "depth",
          "xref": "x",
          "y": "color",
          "yref": "y"
         },
         {
          "font": {
           "color": "#FFFFFF"
          },
          "showarrow": false,
          "text": "-0.03",
          "x": "table",
          "xref": "x",
          "y": "color",
          "yref": "y"
         },
         {
          "font": {
           "color": "#FFFFFF"
          },
          "showarrow": false,
          "text": "-0.17",
          "x": "price",
          "xref": "x",
          "y": "color",
          "yref": "y"
         },
         {
          "font": {
           "color": "#FFFFFF"
          },
          "showarrow": false,
          "text": "-0.27",
          "x": "x",
          "xref": "x",
          "y": "color",
          "yref": "y"
         },
         {
          "font": {
           "color": "#FFFFFF"
          },
          "showarrow": false,
          "text": "-0.26",
          "x": "y",
          "xref": "x",
          "y": "color",
          "yref": "y"
         },
         {
          "font": {
           "color": "#FFFFFF"
          },
          "showarrow": false,
          "text": "-0.27",
          "x": "z",
          "xref": "x",
          "y": "color",
          "yref": "y"
         },
         {
          "font": {
           "color": "#FFFFFF"
          },
          "showarrow": false,
          "text": "-0.35",
          "x": "carat",
          "xref": "x",
          "y": "clarity",
          "yref": "y"
         },
         {
          "font": {
           "color": "#FFFFFF"
          },
          "showarrow": false,
          "text": "0.19",
          "x": "cut",
          "xref": "x",
          "y": "clarity",
          "yref": "y"
         },
         {
          "font": {
           "color": "#FFFFFF"
          },
          "showarrow": false,
          "text": "-0.03",
          "x": "color",
          "xref": "x",
          "y": "clarity",
          "yref": "y"
         },
         {
          "font": {
           "color": "#000000"
          },
          "showarrow": false,
          "text": "1.0",
          "x": "clarity",
          "xref": "x",
          "y": "clarity",
          "yref": "y"
         },
         {
          "font": {
           "color": "#FFFFFF"
          },
          "showarrow": false,
          "text": "-0.07",
          "x": "depth",
          "xref": "x",
          "y": "clarity",
          "yref": "y"
         },
         {
          "font": {
           "color": "#FFFFFF"
          },
          "showarrow": false,
          "text": "-0.16",
          "x": "table",
          "xref": "x",
          "y": "clarity",
          "yref": "y"
         },
         {
          "font": {
           "color": "#FFFFFF"
          },
          "showarrow": false,
          "text": "-0.15",
          "x": "price",
          "xref": "x",
          "y": "clarity",
          "yref": "y"
         },
         {
          "font": {
           "color": "#FFFFFF"
          },
          "showarrow": false,
          "text": "-0.37",
          "x": "x",
          "xref": "x",
          "y": "clarity",
          "yref": "y"
         },
         {
          "font": {
           "color": "#FFFFFF"
          },
          "showarrow": false,
          "text": "-0.36",
          "x": "y",
          "xref": "x",
          "y": "clarity",
          "yref": "y"
         },
         {
          "font": {
           "color": "#FFFFFF"
          },
          "showarrow": false,
          "text": "-0.37",
          "x": "z",
          "xref": "x",
          "y": "clarity",
          "yref": "y"
         },
         {
          "font": {
           "color": "#FFFFFF"
          },
          "showarrow": false,
          "text": "0.03",
          "x": "carat",
          "xref": "x",
          "y": "depth",
          "yref": "y"
         },
         {
          "font": {
           "color": "#FFFFFF"
          },
          "showarrow": false,
          "text": "-0.22",
          "x": "cut",
          "xref": "x",
          "y": "depth",
          "yref": "y"
         },
         {
          "font": {
           "color": "#FFFFFF"
          },
          "showarrow": false,
          "text": "-0.05",
          "x": "color",
          "xref": "x",
          "y": "depth",
          "yref": "y"
         },
         {
          "font": {
           "color": "#FFFFFF"
          },
          "showarrow": false,
          "text": "-0.07",
          "x": "clarity",
          "xref": "x",
          "y": "depth",
          "yref": "y"
         },
         {
          "font": {
           "color": "#000000"
          },
          "showarrow": false,
          "text": "1.0",
          "x": "depth",
          "xref": "x",
          "y": "depth",
          "yref": "y"
         },
         {
          "font": {
           "color": "#FFFFFF"
          },
          "showarrow": false,
          "text": "-0.3",
          "x": "table",
          "xref": "x",
          "y": "depth",
          "yref": "y"
         },
         {
          "font": {
           "color": "#FFFFFF"
          },
          "showarrow": false,
          "text": "-0.01",
          "x": "price",
          "xref": "x",
          "y": "depth",
          "yref": "y"
         },
         {
          "font": {
           "color": "#FFFFFF"
          },
          "showarrow": false,
          "text": "-0.03",
          "x": "x",
          "xref": "x",
          "y": "depth",
          "yref": "y"
         },
         {
          "font": {
           "color": "#FFFFFF"
          },
          "showarrow": false,
          "text": "-0.03",
          "x": "y",
          "xref": "x",
          "y": "depth",
          "yref": "y"
         },
         {
          "font": {
           "color": "#FFFFFF"
          },
          "showarrow": false,
          "text": "0.09",
          "x": "z",
          "xref": "x",
          "y": "depth",
          "yref": "y"
         },
         {
          "font": {
           "color": "#FFFFFF"
          },
          "showarrow": false,
          "text": "0.18",
          "x": "carat",
          "xref": "x",
          "y": "table",
          "yref": "y"
         },
         {
          "font": {
           "color": "#FFFFFF"
          },
          "showarrow": false,
          "text": "-0.43",
          "x": "cut",
          "xref": "x",
          "y": "table",
          "yref": "y"
         },
         {
          "font": {
           "color": "#FFFFFF"
          },
          "showarrow": false,
          "text": "-0.03",
          "x": "color",
          "xref": "x",
          "y": "table",
          "yref": "y"
         },
         {
          "font": {
           "color": "#FFFFFF"
          },
          "showarrow": false,
          "text": "-0.16",
          "x": "clarity",
          "xref": "x",
          "y": "table",
          "yref": "y"
         },
         {
          "font": {
           "color": "#FFFFFF"
          },
          "showarrow": false,
          "text": "-0.3",
          "x": "depth",
          "xref": "x",
          "y": "table",
          "yref": "y"
         },
         {
          "font": {
           "color": "#000000"
          },
          "showarrow": false,
          "text": "1.0",
          "x": "table",
          "xref": "x",
          "y": "table",
          "yref": "y"
         },
         {
          "font": {
           "color": "#FFFFFF"
          },
          "showarrow": false,
          "text": "0.13",
          "x": "price",
          "xref": "x",
          "y": "table",
          "yref": "y"
         },
         {
          "font": {
           "color": "#FFFFFF"
          },
          "showarrow": false,
          "text": "0.2",
          "x": "x",
          "xref": "x",
          "y": "table",
          "yref": "y"
         },
         {
          "font": {
           "color": "#FFFFFF"
          },
          "showarrow": false,
          "text": "0.18",
          "x": "y",
          "xref": "x",
          "y": "table",
          "yref": "y"
         },
         {
          "font": {
           "color": "#FFFFFF"
          },
          "showarrow": false,
          "text": "0.15",
          "x": "z",
          "xref": "x",
          "y": "table",
          "yref": "y"
         },
         {
          "font": {
           "color": "#000000"
          },
          "showarrow": false,
          "text": "0.92",
          "x": "carat",
          "xref": "x",
          "y": "price",
          "yref": "y"
         },
         {
          "font": {
           "color": "#FFFFFF"
          },
          "showarrow": false,
          "text": "-0.05",
          "x": "cut",
          "xref": "x",
          "y": "price",
          "yref": "y"
         },
         {
          "font": {
           "color": "#FFFFFF"
          },
          "showarrow": false,
          "text": "-0.17",
          "x": "color",
          "xref": "x",
          "y": "price",
          "yref": "y"
         },
         {
          "font": {
           "color": "#FFFFFF"
          },
          "showarrow": false,
          "text": "-0.15",
          "x": "clarity",
          "xref": "x",
          "y": "price",
          "yref": "y"
         },
         {
          "font": {
           "color": "#FFFFFF"
          },
          "showarrow": false,
          "text": "-0.01",
          "x": "depth",
          "xref": "x",
          "y": "price",
          "yref": "y"
         },
         {
          "font": {
           "color": "#FFFFFF"
          },
          "showarrow": false,
          "text": "0.13",
          "x": "table",
          "xref": "x",
          "y": "price",
          "yref": "y"
         },
         {
          "font": {
           "color": "#000000"
          },
          "showarrow": false,
          "text": "1.0",
          "x": "price",
          "xref": "x",
          "y": "price",
          "yref": "y"
         },
         {
          "font": {
           "color": "#000000"
          },
          "showarrow": false,
          "text": "0.88",
          "x": "x",
          "xref": "x",
          "y": "price",
          "yref": "y"
         },
         {
          "font": {
           "color": "#000000"
          },
          "showarrow": false,
          "text": "0.87",
          "x": "y",
          "xref": "x",
          "y": "price",
          "yref": "y"
         },
         {
          "font": {
           "color": "#000000"
          },
          "showarrow": false,
          "text": "0.86",
          "x": "z",
          "xref": "x",
          "y": "price",
          "yref": "y"
         },
         {
          "font": {
           "color": "#000000"
          },
          "showarrow": false,
          "text": "0.98",
          "x": "carat",
          "xref": "x",
          "y": "x",
          "yref": "y"
         },
         {
          "font": {
           "color": "#FFFFFF"
          },
          "showarrow": false,
          "text": "-0.13",
          "x": "cut",
          "xref": "x",
          "y": "x",
          "yref": "y"
         },
         {
          "font": {
           "color": "#FFFFFF"
          },
          "showarrow": false,
          "text": "-0.27",
          "x": "color",
          "xref": "x",
          "y": "x",
          "yref": "y"
         },
         {
          "font": {
           "color": "#FFFFFF"
          },
          "showarrow": false,
          "text": "-0.37",
          "x": "clarity",
          "xref": "x",
          "y": "x",
          "yref": "y"
         },
         {
          "font": {
           "color": "#FFFFFF"
          },
          "showarrow": false,
          "text": "-0.03",
          "x": "depth",
          "xref": "x",
          "y": "x",
          "yref": "y"
         },
         {
          "font": {
           "color": "#FFFFFF"
          },
          "showarrow": false,
          "text": "0.2",
          "x": "table",
          "xref": "x",
          "y": "x",
          "yref": "y"
         },
         {
          "font": {
           "color": "#000000"
          },
          "showarrow": false,
          "text": "0.88",
          "x": "price",
          "xref": "x",
          "y": "x",
          "yref": "y"
         },
         {
          "font": {
           "color": "#000000"
          },
          "showarrow": false,
          "text": "1.0",
          "x": "x",
          "xref": "x",
          "y": "x",
          "yref": "y"
         },
         {
          "font": {
           "color": "#000000"
          },
          "showarrow": false,
          "text": "0.97",
          "x": "y",
          "xref": "x",
          "y": "x",
          "yref": "y"
         },
         {
          "font": {
           "color": "#000000"
          },
          "showarrow": false,
          "text": "0.97",
          "x": "z",
          "xref": "x",
          "y": "x",
          "yref": "y"
         },
         {
          "font": {
           "color": "#000000"
          },
          "showarrow": false,
          "text": "0.95",
          "x": "carat",
          "xref": "x",
          "y": "y",
          "yref": "y"
         },
         {
          "font": {
           "color": "#FFFFFF"
          },
          "showarrow": false,
          "text": "-0.12",
          "x": "cut",
          "xref": "x",
          "y": "y",
          "yref": "y"
         },
         {
          "font": {
           "color": "#FFFFFF"
          },
          "showarrow": false,
          "text": "-0.26",
          "x": "color",
          "xref": "x",
          "y": "y",
          "yref": "y"
         },
         {
          "font": {
           "color": "#FFFFFF"
          },
          "showarrow": false,
          "text": "-0.36",
          "x": "clarity",
          "xref": "x",
          "y": "y",
          "yref": "y"
         },
         {
          "font": {
           "color": "#FFFFFF"
          },
          "showarrow": false,
          "text": "-0.03",
          "x": "depth",
          "xref": "x",
          "y": "y",
          "yref": "y"
         },
         {
          "font": {
           "color": "#FFFFFF"
          },
          "showarrow": false,
          "text": "0.18",
          "x": "table",
          "xref": "x",
          "y": "y",
          "yref": "y"
         },
         {
          "font": {
           "color": "#000000"
          },
          "showarrow": false,
          "text": "0.87",
          "x": "price",
          "xref": "x",
          "y": "y",
          "yref": "y"
         },
         {
          "font": {
           "color": "#000000"
          },
          "showarrow": false,
          "text": "0.97",
          "x": "x",
          "xref": "x",
          "y": "y",
          "yref": "y"
         },
         {
          "font": {
           "color": "#000000"
          },
          "showarrow": false,
          "text": "1.0",
          "x": "y",
          "xref": "x",
          "y": "y",
          "yref": "y"
         },
         {
          "font": {
           "color": "#000000"
          },
          "showarrow": false,
          "text": "0.95",
          "x": "z",
          "xref": "x",
          "y": "y",
          "yref": "y"
         },
         {
          "font": {
           "color": "#000000"
          },
          "showarrow": false,
          "text": "0.95",
          "x": "carat",
          "xref": "x",
          "y": "z",
          "yref": "y"
         },
         {
          "font": {
           "color": "#FFFFFF"
          },
          "showarrow": false,
          "text": "-0.15",
          "x": "cut",
          "xref": "x",
          "y": "z",
          "yref": "y"
         },
         {
          "font": {
           "color": "#FFFFFF"
          },
          "showarrow": false,
          "text": "-0.27",
          "x": "color",
          "xref": "x",
          "y": "z",
          "yref": "y"
         },
         {
          "font": {
           "color": "#FFFFFF"
          },
          "showarrow": false,
          "text": "-0.37",
          "x": "clarity",
          "xref": "x",
          "y": "z",
          "yref": "y"
         },
         {
          "font": {
           "color": "#FFFFFF"
          },
          "showarrow": false,
          "text": "0.09",
          "x": "depth",
          "xref": "x",
          "y": "z",
          "yref": "y"
         },
         {
          "font": {
           "color": "#FFFFFF"
          },
          "showarrow": false,
          "text": "0.15",
          "x": "table",
          "xref": "x",
          "y": "z",
          "yref": "y"
         },
         {
          "font": {
           "color": "#000000"
          },
          "showarrow": false,
          "text": "0.86",
          "x": "price",
          "xref": "x",
          "y": "z",
          "yref": "y"
         },
         {
          "font": {
           "color": "#000000"
          },
          "showarrow": false,
          "text": "0.97",
          "x": "x",
          "xref": "x",
          "y": "z",
          "yref": "y"
         },
         {
          "font": {
           "color": "#000000"
          },
          "showarrow": false,
          "text": "0.95",
          "x": "y",
          "xref": "x",
          "y": "z",
          "yref": "y"
         },
         {
          "font": {
           "color": "#000000"
          },
          "showarrow": false,
          "text": "1.0",
          "x": "z",
          "xref": "x",
          "y": "z",
          "yref": "y"
         }
        ],
        "template": {
         "data": {
          "bar": [
           {
            "error_x": {
             "color": "#2a3f5f"
            },
            "error_y": {
             "color": "#2a3f5f"
            },
            "marker": {
             "line": {
              "color": "#E5ECF6",
              "width": 0.5
             },
             "pattern": {
              "fillmode": "overlay",
              "size": 10,
              "solidity": 0.2
             }
            },
            "type": "bar"
           }
          ],
          "barpolar": [
           {
            "marker": {
             "line": {
              "color": "#E5ECF6",
              "width": 0.5
             },
             "pattern": {
              "fillmode": "overlay",
              "size": 10,
              "solidity": 0.2
             }
            },
            "type": "barpolar"
           }
          ],
          "carpet": [
           {
            "aaxis": {
             "endlinecolor": "#2a3f5f",
             "gridcolor": "white",
             "linecolor": "white",
             "minorgridcolor": "white",
             "startlinecolor": "#2a3f5f"
            },
            "baxis": {
             "endlinecolor": "#2a3f5f",
             "gridcolor": "white",
             "linecolor": "white",
             "minorgridcolor": "white",
             "startlinecolor": "#2a3f5f"
            },
            "type": "carpet"
           }
          ],
          "choropleth": [
           {
            "colorbar": {
             "outlinewidth": 0,
             "ticks": ""
            },
            "type": "choropleth"
           }
          ],
          "contour": [
           {
            "colorbar": {
             "outlinewidth": 0,
             "ticks": ""
            },
            "colorscale": [
             [
              0,
              "#0d0887"
             ],
             [
              0.1111111111111111,
              "#46039f"
             ],
             [
              0.2222222222222222,
              "#7201a8"
             ],
             [
              0.3333333333333333,
              "#9c179e"
             ],
             [
              0.4444444444444444,
              "#bd3786"
             ],
             [
              0.5555555555555556,
              "#d8576b"
             ],
             [
              0.6666666666666666,
              "#ed7953"
             ],
             [
              0.7777777777777778,
              "#fb9f3a"
             ],
             [
              0.8888888888888888,
              "#fdca26"
             ],
             [
              1,
              "#f0f921"
             ]
            ],
            "type": "contour"
           }
          ],
          "contourcarpet": [
           {
            "colorbar": {
             "outlinewidth": 0,
             "ticks": ""
            },
            "type": "contourcarpet"
           }
          ],
          "heatmap": [
           {
            "colorbar": {
             "outlinewidth": 0,
             "ticks": ""
            },
            "colorscale": [
             [
              0,
              "#0d0887"
             ],
             [
              0.1111111111111111,
              "#46039f"
             ],
             [
              0.2222222222222222,
              "#7201a8"
             ],
             [
              0.3333333333333333,
              "#9c179e"
             ],
             [
              0.4444444444444444,
              "#bd3786"
             ],
             [
              0.5555555555555556,
              "#d8576b"
             ],
             [
              0.6666666666666666,
              "#ed7953"
             ],
             [
              0.7777777777777778,
              "#fb9f3a"
             ],
             [
              0.8888888888888888,
              "#fdca26"
             ],
             [
              1,
              "#f0f921"
             ]
            ],
            "type": "heatmap"
           }
          ],
          "heatmapgl": [
           {
            "colorbar": {
             "outlinewidth": 0,
             "ticks": ""
            },
            "colorscale": [
             [
              0,
              "#0d0887"
             ],
             [
              0.1111111111111111,
              "#46039f"
             ],
             [
              0.2222222222222222,
              "#7201a8"
             ],
             [
              0.3333333333333333,
              "#9c179e"
             ],
             [
              0.4444444444444444,
              "#bd3786"
             ],
             [
              0.5555555555555556,
              "#d8576b"
             ],
             [
              0.6666666666666666,
              "#ed7953"
             ],
             [
              0.7777777777777778,
              "#fb9f3a"
             ],
             [
              0.8888888888888888,
              "#fdca26"
             ],
             [
              1,
              "#f0f921"
             ]
            ],
            "type": "heatmapgl"
           }
          ],
          "histogram": [
           {
            "marker": {
             "pattern": {
              "fillmode": "overlay",
              "size": 10,
              "solidity": 0.2
             }
            },
            "type": "histogram"
           }
          ],
          "histogram2d": [
           {
            "colorbar": {
             "outlinewidth": 0,
             "ticks": ""
            },
            "colorscale": [
             [
              0,
              "#0d0887"
             ],
             [
              0.1111111111111111,
              "#46039f"
             ],
             [
              0.2222222222222222,
              "#7201a8"
             ],
             [
              0.3333333333333333,
              "#9c179e"
             ],
             [
              0.4444444444444444,
              "#bd3786"
             ],
             [
              0.5555555555555556,
              "#d8576b"
             ],
             [
              0.6666666666666666,
              "#ed7953"
             ],
             [
              0.7777777777777778,
              "#fb9f3a"
             ],
             [
              0.8888888888888888,
              "#fdca26"
             ],
             [
              1,
              "#f0f921"
             ]
            ],
            "type": "histogram2d"
           }
          ],
          "histogram2dcontour": [
           {
            "colorbar": {
             "outlinewidth": 0,
             "ticks": ""
            },
            "colorscale": [
             [
              0,
              "#0d0887"
             ],
             [
              0.1111111111111111,
              "#46039f"
             ],
             [
              0.2222222222222222,
              "#7201a8"
             ],
             [
              0.3333333333333333,
              "#9c179e"
             ],
             [
              0.4444444444444444,
              "#bd3786"
             ],
             [
              0.5555555555555556,
              "#d8576b"
             ],
             [
              0.6666666666666666,
              "#ed7953"
             ],
             [
              0.7777777777777778,
              "#fb9f3a"
             ],
             [
              0.8888888888888888,
              "#fdca26"
             ],
             [
              1,
              "#f0f921"
             ]
            ],
            "type": "histogram2dcontour"
           }
          ],
          "mesh3d": [
           {
            "colorbar": {
             "outlinewidth": 0,
             "ticks": ""
            },
            "type": "mesh3d"
           }
          ],
          "parcoords": [
           {
            "line": {
             "colorbar": {
              "outlinewidth": 0,
              "ticks": ""
             }
            },
            "type": "parcoords"
           }
          ],
          "pie": [
           {
            "automargin": true,
            "type": "pie"
           }
          ],
          "scatter": [
           {
            "marker": {
             "colorbar": {
              "outlinewidth": 0,
              "ticks": ""
             }
            },
            "type": "scatter"
           }
          ],
          "scatter3d": [
           {
            "line": {
             "colorbar": {
              "outlinewidth": 0,
              "ticks": ""
             }
            },
            "marker": {
             "colorbar": {
              "outlinewidth": 0,
              "ticks": ""
             }
            },
            "type": "scatter3d"
           }
          ],
          "scattercarpet": [
           {
            "marker": {
             "colorbar": {
              "outlinewidth": 0,
              "ticks": ""
             }
            },
            "type": "scattercarpet"
           }
          ],
          "scattergeo": [
           {
            "marker": {
             "colorbar": {
              "outlinewidth": 0,
              "ticks": ""
             }
            },
            "type": "scattergeo"
           }
          ],
          "scattergl": [
           {
            "marker": {
             "colorbar": {
              "outlinewidth": 0,
              "ticks": ""
             }
            },
            "type": "scattergl"
           }
          ],
          "scattermapbox": [
           {
            "marker": {
             "colorbar": {
              "outlinewidth": 0,
              "ticks": ""
             }
            },
            "type": "scattermapbox"
           }
          ],
          "scatterpolar": [
           {
            "marker": {
             "colorbar": {
              "outlinewidth": 0,
              "ticks": ""
             }
            },
            "type": "scatterpolar"
           }
          ],
          "scatterpolargl": [
           {
            "marker": {
             "colorbar": {
              "outlinewidth": 0,
              "ticks": ""
             }
            },
            "type": "scatterpolargl"
           }
          ],
          "scatterternary": [
           {
            "marker": {
             "colorbar": {
              "outlinewidth": 0,
              "ticks": ""
             }
            },
            "type": "scatterternary"
           }
          ],
          "surface": [
           {
            "colorbar": {
             "outlinewidth": 0,
             "ticks": ""
            },
            "colorscale": [
             [
              0,
              "#0d0887"
             ],
             [
              0.1111111111111111,
              "#46039f"
             ],
             [
              0.2222222222222222,
              "#7201a8"
             ],
             [
              0.3333333333333333,
              "#9c179e"
             ],
             [
              0.4444444444444444,
              "#bd3786"
             ],
             [
              0.5555555555555556,
              "#d8576b"
             ],
             [
              0.6666666666666666,
              "#ed7953"
             ],
             [
              0.7777777777777778,
              "#fb9f3a"
             ],
             [
              0.8888888888888888,
              "#fdca26"
             ],
             [
              1,
              "#f0f921"
             ]
            ],
            "type": "surface"
           }
          ],
          "table": [
           {
            "cells": {
             "fill": {
              "color": "#EBF0F8"
             },
             "line": {
              "color": "white"
             }
            },
            "header": {
             "fill": {
              "color": "#C8D4E3"
             },
             "line": {
              "color": "white"
             }
            },
            "type": "table"
           }
          ]
         },
         "layout": {
          "annotationdefaults": {
           "arrowcolor": "#2a3f5f",
           "arrowhead": 0,
           "arrowwidth": 1
          },
          "autotypenumbers": "strict",
          "coloraxis": {
           "colorbar": {
            "outlinewidth": 0,
            "ticks": ""
           }
          },
          "colorscale": {
           "diverging": [
            [
             0,
             "#8e0152"
            ],
            [
             0.1,
             "#c51b7d"
            ],
            [
             0.2,
             "#de77ae"
            ],
            [
             0.3,
             "#f1b6da"
            ],
            [
             0.4,
             "#fde0ef"
            ],
            [
             0.5,
             "#f7f7f7"
            ],
            [
             0.6,
             "#e6f5d0"
            ],
            [
             0.7,
             "#b8e186"
            ],
            [
             0.8,
             "#7fbc41"
            ],
            [
             0.9,
             "#4d9221"
            ],
            [
             1,
             "#276419"
            ]
           ],
           "sequential": [
            [
             0,
             "#0d0887"
            ],
            [
             0.1111111111111111,
             "#46039f"
            ],
            [
             0.2222222222222222,
             "#7201a8"
            ],
            [
             0.3333333333333333,
             "#9c179e"
            ],
            [
             0.4444444444444444,
             "#bd3786"
            ],
            [
             0.5555555555555556,
             "#d8576b"
            ],
            [
             0.6666666666666666,
             "#ed7953"
            ],
            [
             0.7777777777777778,
             "#fb9f3a"
            ],
            [
             0.8888888888888888,
             "#fdca26"
            ],
            [
             1,
             "#f0f921"
            ]
           ],
           "sequentialminus": [
            [
             0,
             "#0d0887"
            ],
            [
             0.1111111111111111,
             "#46039f"
            ],
            [
             0.2222222222222222,
             "#7201a8"
            ],
            [
             0.3333333333333333,
             "#9c179e"
            ],
            [
             0.4444444444444444,
             "#bd3786"
            ],
            [
             0.5555555555555556,
             "#d8576b"
            ],
            [
             0.6666666666666666,
             "#ed7953"
            ],
            [
             0.7777777777777778,
             "#fb9f3a"
            ],
            [
             0.8888888888888888,
             "#fdca26"
            ],
            [
             1,
             "#f0f921"
            ]
           ]
          },
          "colorway": [
           "#636efa",
           "#EF553B",
           "#00cc96",
           "#ab63fa",
           "#FFA15A",
           "#19d3f3",
           "#FF6692",
           "#B6E880",
           "#FF97FF",
           "#FECB52"
          ],
          "font": {
           "color": "#2a3f5f"
          },
          "geo": {
           "bgcolor": "white",
           "lakecolor": "white",
           "landcolor": "#E5ECF6",
           "showlakes": true,
           "showland": true,
           "subunitcolor": "white"
          },
          "hoverlabel": {
           "align": "left"
          },
          "hovermode": "closest",
          "mapbox": {
           "style": "light"
          },
          "paper_bgcolor": "white",
          "plot_bgcolor": "#E5ECF6",
          "polar": {
           "angularaxis": {
            "gridcolor": "white",
            "linecolor": "white",
            "ticks": ""
           },
           "bgcolor": "#E5ECF6",
           "radialaxis": {
            "gridcolor": "white",
            "linecolor": "white",
            "ticks": ""
           }
          },
          "scene": {
           "xaxis": {
            "backgroundcolor": "#E5ECF6",
            "gridcolor": "white",
            "gridwidth": 2,
            "linecolor": "white",
            "showbackground": true,
            "ticks": "",
            "zerolinecolor": "white"
           },
           "yaxis": {
            "backgroundcolor": "#E5ECF6",
            "gridcolor": "white",
            "gridwidth": 2,
            "linecolor": "white",
            "showbackground": true,
            "ticks": "",
            "zerolinecolor": "white"
           },
           "zaxis": {
            "backgroundcolor": "#E5ECF6",
            "gridcolor": "white",
            "gridwidth": 2,
            "linecolor": "white",
            "showbackground": true,
            "ticks": "",
            "zerolinecolor": "white"
           }
          },
          "shapedefaults": {
           "line": {
            "color": "#2a3f5f"
           }
          },
          "ternary": {
           "aaxis": {
            "gridcolor": "white",
            "linecolor": "white",
            "ticks": ""
           },
           "baxis": {
            "gridcolor": "white",
            "linecolor": "white",
            "ticks": ""
           },
           "bgcolor": "#E5ECF6",
           "caxis": {
            "gridcolor": "white",
            "linecolor": "white",
            "ticks": ""
           }
          },
          "title": {
           "x": 0.05
          },
          "xaxis": {
           "automargin": true,
           "gridcolor": "white",
           "linecolor": "white",
           "ticks": "",
           "title": {
            "standoff": 15
           },
           "zerolinecolor": "white",
           "zerolinewidth": 2
          },
          "yaxis": {
           "automargin": true,
           "gridcolor": "white",
           "linecolor": "white",
           "ticks": "",
           "title": {
            "standoff": 15
           },
           "zerolinecolor": "white",
           "zerolinewidth": 2
          }
         }
        },
        "xaxis": {
         "dtick": 1,
         "gridcolor": "rgb(0, 0, 0)",
         "side": "top",
         "ticks": ""
        },
        "yaxis": {
         "dtick": 1,
         "ticks": "",
         "ticksuffix": "  "
        }
       }
      }
     },
     "metadata": {},
     "output_type": "display_data"
    }
   ],
   "source": []
  },
  {
   "cell_type": "code",
   "execution_count": null,
   "metadata": {},
   "outputs": [],
   "source": []
  }
 ],
 "metadata": {
  "kernelspec": {
   "display_name": "Python 3.9.12 ('base')",
   "language": "python",
   "name": "python3"
  },
  "language_info": {
   "codemirror_mode": {
    "name": "ipython",
    "version": 3
   },
   "file_extension": ".py",
   "mimetype": "text/x-python",
   "name": "python",
   "nbconvert_exporter": "python",
   "pygments_lexer": "ipython3",
   "version": "3.9.12"
  },
  "orig_nbformat": 4,
  "vscode": {
   "interpreter": {
    "hash": "f08154012ddadd8e950e6e9e035c7a7b32c136e7647e9b7c77e02eb723a8bedb"
   }
  }
 },
 "nbformat": 4,
 "nbformat_minor": 2
}
